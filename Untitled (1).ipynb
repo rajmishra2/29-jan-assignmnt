{
 "cells": [
  {
   "cell_type": "code",
   "execution_count": 1,
   "id": "9374d5dd-6c91-4bda-817c-62fbb9c2baad",
   "metadata": {},
   "outputs": [],
   "source": [
    "#assignment-29 jan"
   ]
  },
  {
   "cell_type": "code",
   "execution_count": 2,
   "id": "aa85fd1f-6a59-4efa-a521-e90ceecd5e4a",
   "metadata": {},
   "outputs": [],
   "source": [
    "#1-Guido van Rossum"
   ]
  },
  {
   "cell_type": "code",
   "execution_count": 3,
   "id": "a457f5b8-b3e8-4238-9f31-c17bbc139187",
   "metadata": {},
   "outputs": [],
   "source": [
    "#2-it support oops, interactive,interpreted ,also support high level dynamic data types also support multiple functions"
   ]
  },
  {
   "cell_type": "code",
   "execution_count": 4,
   "id": "d11f256e-c6de-48f4-a902-9748834965d2",
   "metadata": {},
   "outputs": [],
   "source": [
    "#3-yes, it consider upper case and lower case differently"
   ]
  },
  {
   "cell_type": "code",
   "execution_count": 5,
   "id": "d92633b6-5c99-4faa-852c-e5649199727e",
   "metadata": {},
   "outputs": [],
   "source": [
    "#4-.pyc"
   ]
  },
  {
   "cell_type": "code",
   "execution_count": 6,
   "id": "ba04ae24-f6ed-4ad1-966f-ea2bd3902b55",
   "metadata": {},
   "outputs": [],
   "source": [
    "#5-Python is an interpreted language for the excution "
   ]
  },
  {
   "cell_type": "code",
   "execution_count": 7,
   "id": "7944c423-aa18-4530-98d7-723c9d71789d",
   "metadata": {},
   "outputs": [],
   "source": [
    "#6-a module, class definition, function "
   ]
  },
  {
   "cell_type": "code",
   "execution_count": 8,
   "id": "939261c1-61bc-4447-aa14-46b7a240477c",
   "metadata": {},
   "outputs": [],
   "source": [
    "#7-symbol #"
   ]
  },
  {
   "cell_type": "code",
   "execution_count": 9,
   "id": "ab8744b9-69b6-4a7d-ad38-3e1d812828ee",
   "metadata": {},
   "outputs": [],
   "source": [
    "#8-The function sys. version "
   ]
  },
  {
   "cell_type": "code",
   "execution_count": 10,
   "id": "a4941856-c791-4428-84da-cc8636d72b66",
   "metadata": {},
   "outputs": [],
   "source": [
    "#9-by using lambda function for anonymous "
   ]
  },
  {
   "cell_type": "code",
   "execution_count": 11,
   "id": "3f9317e1-ec3a-44a9-b6a6-e19e0e8c2a12",
   "metadata": {},
   "outputs": [],
   "source": [
    "#10-PIP- pip install package"
   ]
  },
  {
   "cell_type": "code",
   "execution_count": 12,
   "id": "e2ce2231-a9ea-4740-8740-3c7dde6e600f",
   "metadata": {},
   "outputs": [],
   "source": [
    "#11-pre define function-eg. bool(), sort(), True(),etc."
   ]
  },
  {
   "cell_type": "code",
   "execution_count": 13,
   "id": "a28f361d-629b-493f-86e3-a6ba8b6689eb",
   "metadata": {},
   "outputs": [],
   "source": [
    "#12-max lentgh-79 character"
   ]
  },
  {
   "cell_type": "code",
   "execution_count": 14,
   "id": "1b102c29-697f-47cc-a6bb-3bf684daa73c",
   "metadata": {},
   "outputs": [],
   "source": [
    "#13-benefits of python using - high level langauge, user friendlty, presence of third party module,, support library"
   ]
  },
  {
   "cell_type": "code",
   "execution_count": 15,
   "id": "52e130e9-e639-4f0c-bfa5-a0adf4e4a679",
   "metadata": {},
   "outputs": [],
   "source": [
    "#14-managed by the Heap data structure. Memory Heap holds the objects and other data structures that will be used in the program with the help of API function"
   ]
  },
  {
   "cell_type": "code",
   "execution_count": null,
   "id": "2cf5521f-0cbc-4e11-94a6-c2cf2b348077",
   "metadata": {},
   "outputs": [],
   "source": [
    "#15-"
   ]
  }
 ],
 "metadata": {
  "kernelspec": {
   "display_name": "Python 3 (ipykernel)",
   "language": "python",
   "name": "python3"
  },
  "language_info": {
   "codemirror_mode": {
    "name": "ipython",
    "version": 3
   },
   "file_extension": ".py",
   "mimetype": "text/x-python",
   "name": "python",
   "nbconvert_exporter": "python",
   "pygments_lexer": "ipython3",
   "version": "3.10.8"
  }
 },
 "nbformat": 4,
 "nbformat_minor": 5
}
